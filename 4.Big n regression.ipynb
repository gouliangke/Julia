{
 "cells": [
  {
   "cell_type": "markdown",
   "metadata": {},
   "source": [
    "# Big $n$ regression"
   ]
  },
  {
   "cell_type": "markdown",
   "metadata": {},
   "source": [
    "Here is an experience to do linear regression on a dataset with more than 100 million observations. I learnt various methods for solving linear regression and realize that, with right choice of algorithm, it is a problem that can be handled by any moderate computer."
   ]
  },
  {
   "cell_type": "markdown",
   "metadata": {},
   "source": [
    "### Q1(1)\n",
    "\n",
    "Download the flight data from <http://stat-computing.org/dataexpo/2009/the-data.html>. For this exercise, we only need data from years 2003-2008. If you are using Mac or Linux, you can run the following Bash script, which downloads and unzips files for all years.\n",
    "```bash\n",
    "# Download flight data by year\n",
    "for i in {1987..2008}\n",
    "  do\n",
    "    echo \"$(date) $i Download\"\n",
    "    fnam=$i.csv.bz2\n",
    "    wget -O ./$fnam http://stat-computing.org/dataexpo/2009/$fnam\n",
    "    echo \"$(date) $i unzip\"\n",
    "    bzip2 -d ./$fnam\n",
    "  done\n",
    "\n",
    "# Download airline carrier data\n",
    "wget -O ./airlines.csv http://www.transtats.bts.gov/Download_Lookup.asp?Lookup=L_UNIQUE_CARRIERS\n",
    "\n",
    "# Download airports data\n",
    "wget -O ./airports.csv https://raw.githubusercontent.com/jpatokal/openflights/master/data/airports.dat\n",
    "```\n",
    "Find out how many data points in each year."
   ]
  },
  {
   "cell_type": "code",
   "execution_count": 7,
   "metadata": {},
   "outputs": [
    {
     "name": "stdout",
     "output_type": "stream",
     "text": [
      "string(i, \".csv\") = \"2003.csv\"\n",
      "countlines(string(i, \".csv\")) = 6488541\n",
      "string(i, \".csv\") = \"2004.csv\"\n",
      "countlines(string(i, \".csv\")) = 7129271\n",
      "string(i, \".csv\") = \"2005.csv\"\n",
      "countlines(string(i, \".csv\")) = 7140597\n",
      "string(i, \".csv\") = \"2006.csv\"\n",
      "countlines(string(i, \".csv\")) = 7141923\n",
      "string(i, \".csv\") = \"2007.csv\"\n",
      "countlines(string(i, \".csv\")) = 7453216\n",
      "string(i, \".csv\") = \"2008.csv\"\n",
      "countlines(string(i, \".csv\")) = 7009729\n"
     ]
    }
   ],
   "source": [
    "range=[2003,2004,2005,2006,2007,2008]\n",
    "\n",
    "for i in range\n",
    "    @show string(i,\".csv\")\n",
    "    @show countlines(string(i,\".csv\"))\n",
    "end"
   ]
  },
  {
   "cell_type": "markdown",
   "metadata": {},
   "source": [
    "So from above we find the year 2003-2008 files have 6488541, 7129271, 7140597, 7141923, 7453216, 7009729 lines respectively."
   ]
  },
  {
   "cell_type": "markdown",
   "metadata": {},
   "source": [
    "### Q1(2) \n",
    "\n",
    "We are interested in how the time gain of a flight, defined as `DepDelay - ArrDelay`, depends on the distance traveled (`Distance`), departure delay (`DepDelay`), and carrier (`UniqueCarrier`). \n",
    "\n",
    "We want to fit a linear regression `Gain ~ 1 + Distance + DepDelay + UniqueCarrier` using data from 2003-2008. Note `UniqueCarrier` is a factor with 23 levels: \"9E\", \"AA\", \"AQ\", \"AS\", \"B6\", \"CO\", \"DH\", \"DL\", \"EV\", \"F9\", \"FL\", \"HA\", \"HP\", \"MQ\", \"NW\", \"OH\", \"OO\", \"TZ\", \"UA\", \"US\", \"WN\", \"XE\", and \"YV\". We use the dummy coding with \"9E\" as base level.\n",
    "\n",
    "Will the design matrix (in double precision) fit into the memory of you computer?"
   ]
  },
  {
   "cell_type": "code",
   "execution_count": 1,
   "metadata": {},
   "outputs": [
    {
     "data": {
      "text/plain": [
       "Table with 6488540 rows, 4 columns:\n",
       "DepDelay  ArrDelay  UniqueCarrier  Distance\n",
       "───────────────────────────────────────────\n",
       "-4        -1        \"UA\"           837\n",
       "-1        -3        \"UA\"           837\n",
       "29        23        \"UA\"           837\n",
       "-2        -9        \"UA\"           1835\n",
       "18        52        \"UA\"           1835\n",
       "-4        6         \"UA\"           1835\n",
       "-4        -8        \"UA\"           1835\n",
       "0         2         \"UA\"           1835\n",
       "-4        19        \"UA\"           1835\n",
       "3         4         \"UA\"           413\n",
       "-4        -23       \"UA\"           413\n",
       "-3        -19       \"UA\"           413\n",
       "⋮\n",
       "#NA       #NA       \"DL\"           1891\n",
       "29        62        \"DL\"           581\n",
       "39        66        \"DL\"           1891\n",
       "26        27        \"DL\"           1678\n",
       "114       134       \"DL\"           946\n",
       "44        53        \"DL\"           813\n",
       "16        47        \"DL\"           432\n",
       "50        54        \"DL\"           432\n",
       "-3        -5        \"DL\"           453\n",
       "3         3         \"DL\"           689\n",
       "-1        -1        \"DL\"           1929"
      ]
     },
     "execution_count": 1,
     "metadata": {},
     "output_type": "execute_result"
    }
   ],
   "source": [
    "# import data from csv\n",
    "using JuliaDB\n",
    "\n",
    "yrtable = loadtable(\n",
    "    \"2003.csv\", \n",
    "    datacols = [\"DepDelay\", \"ArrDelay\", \"UniqueCarrier\", \"Distance\"])"
   ]
  },
  {
   "cell_type": "code",
   "execution_count": 2,
   "metadata": {},
   "outputs": [
    {
     "data": {
      "text/plain": [
       "Table with 6375689 rows, 4 columns:\n",
       "DepDelay  ArrDelay  UniqueCarrier  Distance\n",
       "───────────────────────────────────────────\n",
       "-4        -1        \"UA\"           837\n",
       "-1        -3        \"UA\"           837\n",
       "29        23        \"UA\"           837\n",
       "-2        -9        \"UA\"           1835\n",
       "18        52        \"UA\"           1835\n",
       "-4        6         \"UA\"           1835\n",
       "-4        -8        \"UA\"           1835\n",
       "0         2         \"UA\"           1835\n",
       "-4        19        \"UA\"           1835\n",
       "3         4         \"UA\"           413\n",
       "-4        -23       \"UA\"           413\n",
       "-3        -19       \"UA\"           413\n",
       "⋮\n",
       "70        66        \"DL\"           1891\n",
       "29        62        \"DL\"           581\n",
       "39        66        \"DL\"           1891\n",
       "26        27        \"DL\"           1678\n",
       "114       134       \"DL\"           946\n",
       "44        53        \"DL\"           813\n",
       "16        47        \"DL\"           432\n",
       "50        54        \"DL\"           432\n",
       "-3        -5        \"DL\"           453\n",
       "3         3         \"DL\"           689\n",
       "-1        -1        \"DL\"           1929"
      ]
     },
     "execution_count": 2,
     "metadata": {},
     "output_type": "execute_result"
    }
   ],
   "source": [
    "# drop rows with missing values\n",
    "yrtable = dropna(yrtable)"
   ]
  },
  {
   "cell_type": "code",
   "execution_count": 3,
   "metadata": {},
   "outputs": [
    {
     "name": "stdout",
     "output_type": "stream",
     "text": [
      "                       yrtable 155656 KB     IndexedTables.NextTable{IndexedTab…\n"
     ]
    }
   ],
   "source": [
    "whos(r\"yrtable\")"
   ]
  },
  {
   "cell_type": "code",
   "execution_count": 1,
   "metadata": {},
   "outputs": [
    {
     "data": {
      "text/plain": [
       "6-element Array{IndexedTables.NextTable{IndexedTables.Columns{NamedTuples._NT_DepDelay_ArrDelay_UniqueCarrier_Distance{Int64,Int64,String,Int64},NamedTuples._NT_DepDelay_ArrDelay_UniqueCarrier_Distance{Array{Int64,1},Array{Int64,1},PooledArrays.PooledArray{String,UInt8,1,Array{UInt8,1}},Array{Int64,1}}}},1}:\n",
       " Table with 6375689 rows, 4 columns:\n",
       "DepDelay  ArrDelay  UniqueCarrier  Distance\n",
       "───────────────────────────────────────────\n",
       "-4        -1        \"UA\"           837\n",
       "-1        -3        \"UA\"           837\n",
       "29        23        \"UA\"           837\n",
       "-2        -9        \"UA\"           1835\n",
       "18        52        \"UA\"           1835\n",
       "-4        6         \"UA\"           1835\n",
       "-4        -8        \"UA\"           1835\n",
       "0         2         \"UA\"           1835\n",
       "-4        19        \"UA\"           1835\n",
       "3         4         \"UA\"           413\n",
       "-4        -23       \"UA\"           413\n",
       "-3        -19       \"UA\"           413\n",
       "⋮\n",
       "70        66        \"DL\"           1891\n",
       "29        62        \"DL\"           581\n",
       "39        66        \"DL\"           1891\n",
       "26        27        \"DL\"           1678\n",
       "114       134       \"DL\"           946\n",
       "44        53        \"DL\"           813\n",
       "16        47        \"DL\"           432\n",
       "50        54        \"DL\"           432\n",
       "-3        -5        \"DL\"           453\n",
       "3         3         \"DL\"           689\n",
       "-1        -1        \"DL\"           1929\n",
       " Table with 6987729 rows, 4 columns:\n",
       "DepDelay  ArrDelay  UniqueCarrier  Distance\n",
       "───────────────────────────────────────────\n",
       "-7        -14       \"UA\"           599\n",
       "-9        -4        \"UA\"           599\n",
       "3         5         \"UA\"           599\n",
       "-3        -16       \"UA\"           599\n",
       "5         3         \"UA\"           599\n",
       "-2        -10       \"UA\"           599\n",
       "20        29        \"UA\"           599\n",
       "-3        -11       \"UA\"           599\n",
       "-7        -12       \"UA\"           599\n",
       "-4        -14       \"UA\"           599\n",
       "1         8         \"UA\"           599\n",
       "-2        -14       \"UA\"           599\n",
       "⋮\n",
       "0         -4        \"DL\"           821\n",
       "-2        -9        \"DL\"           590\n",
       "-2        -10       \"DL\"           532\n",
       "-1        6         \"DL\"           391\n",
       "2         -15       \"DL\"           599\n",
       "-6        -15       \"DL\"           215\n",
       "6         -1        \"DL\"           425\n",
       "6         -1        \"DL\"           1541\n",
       "6         3         \"DL\"           547\n",
       "-2        -3        \"DL\"           545\n",
       "-2        -13       \"DL\"           594         \n",
       " Table with 6992838 rows, 4 columns:\n",
       "DepDelay  ArrDelay  UniqueCarrier  Distance\n",
       "───────────────────────────────────────────\n",
       "-2        -18       \"UA\"           867\n",
       "-6        -23       \"UA\"           867\n",
       "-7        -24       \"UA\"           867\n",
       "-9        -33       \"UA\"           867\n",
       "34        3         \"UA\"           867\n",
       "102       97        \"UA\"           867\n",
       "106       85        \"UA\"           867\n",
       "130       105       \"UA\"           867\n",
       "-1        12        \"UA\"           867\n",
       "-1        -18       \"UA\"           867\n",
       "17        17        \"UA\"           867\n",
       "35        36        \"UA\"           867\n",
       "⋮\n",
       "0         3         \"DL\"           223\n",
       "8         10        \"DL\"           432\n",
       "-1        6         \"DL\"           1199\n",
       "0         -14       \"DL\"           760\n",
       "-4        -5        \"DL\"           264\n",
       "0         -31       \"DL\"           852\n",
       "-3        -22       \"DL\"           1900\n",
       "0         10        \"DL\"           332\n",
       "-4        -8        \"DL\"           874\n",
       "-1        -15       \"DL\"           906\n",
       "1         7         \"DL\"           1249       \n",
       " Table with 7003802 rows, 4 columns:\n",
       "DepDelay  ArrDelay  UniqueCarrier  Distance\n",
       "───────────────────────────────────────────\n",
       "-2        6         \"US\"           1587\n",
       "0         -5        \"US\"           1587\n",
       "0         -23       \"US\"           1587\n",
       "-2        -8        \"US\"           872\n",
       "-8        0         \"US\"           872\n",
       "-3        2         \"US\"           644\n",
       "5         20        \"US\"           644\n",
       "-3        7         \"US\"           644\n",
       "-6        -7        \"US\"           644\n",
       "-3        -4        \"US\"           644\n",
       "-7        -5        \"US\"           313\n",
       "0         -3        \"US\"           313\n",
       "⋮\n",
       "-1        4         \"DL\"           272\n",
       "-3        -13       \"DL\"           594\n",
       "-8        27        \"DL\"           2586\n",
       "10        0         \"DL\"           1076\n",
       "-4        -5        \"DL\"           547\n",
       "-5        7         \"DL\"           1282\n",
       "-3        -7        \"DL\"           745\n",
       "30        62        \"DL\"           2182\n",
       "3         13        \"DL\"           403\n",
       "-5        -14       \"DL\"           585\n",
       "-3        -22       \"DL\"           1449  \n",
       " Table with 7275288 rows, 4 columns:\n",
       "DepDelay  ArrDelay  UniqueCarrier  Distance\n",
       "───────────────────────────────────────────\n",
       "7         1         \"WN\"           389\n",
       "13        8         \"WN\"           479\n",
       "36        34        \"WN\"           479\n",
       "30        26        \"WN\"           479\n",
       "1         -3        \"WN\"           479\n",
       "10        3         \"WN\"           479\n",
       "56        47        \"WN\"           647\n",
       "9         -2        \"WN\"           647\n",
       "47        44        \"WN\"           647\n",
       "3         -7        \"WN\"           647\n",
       "1         -11       \"WN\"           647\n",
       "52        52        \"WN\"           647\n",
       "⋮\n",
       "15        37        \"DL\"           1900\n",
       "-3        -6        \"DL\"           2139\n",
       "45        24        \"DL\"           2139\n",
       "6         1         \"DL\"           1449\n",
       "1         -9        \"DL\"           1449\n",
       "-1        9         \"DL\"           373\n",
       "-7        13        \"DL\"           403\n",
       "11        5         \"DL\"           1589\n",
       "-1        15        \"DL\"           1946\n",
       "38        36        \"DL\"           732\n",
       "24        33        \"DL\"           403   \n",
       " Table with 6855029 rows, 4 columns:\n",
       "DepDelay  ArrDelay  UniqueCarrier  Distance\n",
       "───────────────────────────────────────────\n",
       "8         -14       \"WN\"           810\n",
       "19        2         \"WN\"           810\n",
       "8         14        \"WN\"           515\n",
       "-4        -6        \"WN\"           515\n",
       "34        34        \"WN\"           515\n",
       "25        11        \"WN\"           688\n",
       "67        57        \"WN\"           1591\n",
       "-1        -18       \"WN\"           1591\n",
       "2         2         \"WN\"           451\n",
       "0         -16       \"WN\"           451\n",
       "6         1         \"WN\"           828\n",
       "94        80        \"WN\"           828\n",
       "⋮\n",
       "57        75        \"DL\"           481\n",
       "80        99        \"DL\"           689\n",
       "-2        15        \"DL\"           270\n",
       "-4        6         \"DL\"           425\n",
       "-3        16        \"DL\"           546\n",
       "-1        2         \"DL\"           215\n",
       "3         14        \"DL\"           533\n",
       "-1        -2        \"DL\"           874\n",
       "-5        0         \"DL\"           545\n",
       "11        9         \"DL\"           533\n",
       "7         -5        \"DL\"           874        "
      ]
     },
     "execution_count": 1,
     "metadata": {},
     "output_type": "execute_result"
    }
   ],
   "source": [
    "# import data from csv\n",
    "using JuliaDB\n",
    "\n",
    "# only need columns: DepDelay, ArrDelay, UniqueCarrier, Distance\n",
    "yrtable1 = loadtable(\n",
    "    \"2003.csv\", \n",
    "    datacols = [\"DepDelay\", \"ArrDelay\", \"UniqueCarrier\", \"Distance\"])\n",
    "yrtable1 = dropna(yrtable1)\n",
    "    \n",
    "yrtable2 = loadtable(\n",
    "    \"2004.csv\", \n",
    "    datacols = [\"DepDelay\", \"ArrDelay\", \"UniqueCarrier\", \"Distance\"])\n",
    "yrtable2 = dropna(yrtable2)\n",
    "\n",
    "yrtable3 = loadtable(\n",
    "    \"2005.csv\", \n",
    "    datacols = [\"DepDelay\", \"ArrDelay\", \"UniqueCarrier\", \"Distance\"])\n",
    "yrtable3 = dropna(yrtable3)\n",
    "\n",
    "yrtable4 = loadtable(\n",
    "    \"2006.csv\", \n",
    "    datacols = [\"DepDelay\", \"ArrDelay\", \"UniqueCarrier\", \"Distance\"])\n",
    "yrtable4 = dropna(yrtable4)\n",
    "\n",
    "yrtable5 = loadtable(\n",
    "    \"2007.csv\", \n",
    "    datacols = [\"DepDelay\", \"ArrDelay\", \"UniqueCarrier\", \"Distance\"])\n",
    "yrtable5 = dropna(yrtable5)\n",
    "\n",
    "yrtable6 = loadtable(\n",
    "    \"2008.csv\", \n",
    "    datacols = [\"DepDelay\", \"ArrDelay\", \"UniqueCarrier\", \"Distance\"])\n",
    "yrtable6 = dropna(yrtable6)\n",
    "\n",
    "y_big = [yrtable1;yrtable2;yrtable3;yrtable4;yrtable5;yrtable6]\n",
    "save(y_big, \"y_big.csv\")"
   ]
  },
  {
   "cell_type": "code",
   "execution_count": 2,
   "metadata": {},
   "outputs": [
    {
     "name": "stdout",
     "output_type": "stream",
     "text": [
      "                         y_big 1012951 KB     6-element Array{IndexedTables.Nex…\n"
     ]
    }
   ],
   "source": [
    "whos(r\"y_big\")"
   ]
  },
  {
   "cell_type": "markdown",
   "metadata": {},
   "source": [
    "we can see above that just the table itself is this big (~990Mb), and the above table has only four columns. The design thable will have the other 23 extended columns to indicate the flight carrier. So probably will be around 990Mb*23. Therefore the RAM of my computer won't be enough. "
   ]
  },
  {
   "cell_type": "markdown",
   "metadata": {},
   "source": [
    "### Q1(3)\n",
    "\n",
    "Review the [Summary of Linear Regression](http://hua-zhou.github.io/teaching/biostatm280-2018spring/slides/12-linreg/linreg.html) and devise a strategy to solve the linear regression.\n",
    "\n",
    "Report the estimated regression coefficients $\\widehat \\beta$, estimated variance $\\widehat \\sigma^2 = \\sum_i (y_i - \\widehat y_i)^2 / (n - 1)$, and coefficient standard errors.\n",
    "\n",
    "Hint: It took my laptop less than 3 minutes to import data and fit linear regression."
   ]
  },
  {
   "cell_type": "code",
   "execution_count": 22,
   "metadata": {},
   "outputs": [
    {
     "data": {
      "text/plain": [
       "Table with 6855029 rows, 4 columns:\n",
       "DepDelay  ArrDelay  UniqueCarrier  Distance\n",
       "───────────────────────────────────────────\n",
       "8         -14       \"WN\"           810\n",
       "19        2         \"WN\"           810\n",
       "8         14        \"WN\"           515\n",
       "-4        -6        \"WN\"           515\n",
       "34        34        \"WN\"           515\n",
       "25        11        \"WN\"           688\n",
       "67        57        \"WN\"           1591\n",
       "-1        -18       \"WN\"           1591\n",
       "2         2         \"WN\"           451\n",
       "0         -16       \"WN\"           451\n",
       "6         1         \"WN\"           828\n",
       "94        80        \"WN\"           828\n",
       "⋮\n",
       "57        75        \"DL\"           481\n",
       "80        99        \"DL\"           689\n",
       "-2        15        \"DL\"           270\n",
       "-4        6         \"DL\"           425\n",
       "-3        16        \"DL\"           546\n",
       "-1        2         \"DL\"           215\n",
       "3         14        \"DL\"           533\n",
       "-1        -2        \"DL\"           874\n",
       "-5        0         \"DL\"           545\n",
       "11        9         \"DL\"           533\n",
       "7         -5        \"DL\"           874"
      ]
     },
     "execution_count": 22,
     "metadata": {},
     "output_type": "execute_result"
    }
   ],
   "source": [
    "using JuliaDB\n",
    "yrtable1 = loadtable(\n",
    "    \"2003.csv\", \n",
    "    datacols = [\"DepDelay\", \"ArrDelay\", \"UniqueCarrier\", \"Distance\"])\n",
    "yrtable1 = dropna(yrtable1)\n",
    "    \n",
    "yrtable2 = loadtable(\n",
    "    \"2004.csv\", \n",
    "    datacols = [\"DepDelay\", \"ArrDelay\", \"UniqueCarrier\", \"Distance\"])\n",
    "yrtable2 = dropna(yrtable2)\n",
    "\n",
    "yrtable3 = loadtable(\n",
    "    \"2005.csv\", \n",
    "    datacols = [\"DepDelay\", \"ArrDelay\", \"UniqueCarrier\", \"Distance\"])\n",
    "yrtable3 = dropna(yrtable3)\n",
    "\n",
    "yrtable4 = loadtable(\n",
    "    \"2006.csv\", \n",
    "    datacols = [\"DepDelay\", \"ArrDelay\", \"UniqueCarrier\", \"Distance\"])\n",
    "yrtable4 = dropna(yrtable4)\n",
    "\n",
    "yrtable5 = loadtable(\n",
    "    \"2007.csv\", \n",
    "    datacols = [\"DepDelay\", \"ArrDelay\", \"UniqueCarrier\", \"Distance\"])\n",
    "yrtable5 = dropna(yrtable5)\n",
    "\n",
    "yrtable6 = loadtable(\n",
    "    \"2008.csv\", \n",
    "    datacols = [\"DepDelay\", \"ArrDelay\", \"UniqueCarrier\", \"Distance\"])\n",
    "yrtable6 = dropna(yrtable6)"
   ]
  },
  {
   "cell_type": "code",
   "execution_count": 53,
   "metadata": {},
   "outputs": [
    {
     "data": {
      "text/plain": [
       "26×26 Array{Float64,2}:\n",
       "      4.14904e7   3.00028e10  …  822290.0              6.0236e7  \n",
       "      3.00028e10  3.51353e13          3.27927e8        5.75882e10\n",
       "      3.69821e8   2.76146e11          1.0596e7         9.8893e7  \n",
       "      3.91626e6   4.19149e9           0.0              3.57932e6 \n",
       "  88336.0         3.75197e7           0.0         111437.0       \n",
       " 937547.0         8.30881e8   …       0.0              1.45831e6 \n",
       " 799117.0         9.55599e8           0.0              1.2441e6  \n",
       "      1.8094e6    2.03781e9           0.0         570038.0       \n",
       " 669687.0         2.51484e8           0.0              1.88422e6 \n",
       "      3.37715e6   2.9514e9            0.0              1.01046e6 \n",
       "      1.64509e6   7.42218e8   …       0.0              4.54593e6 \n",
       " 334842.0         2.97744e8           0.0         128138.0       \n",
       "      1.24932e6   8.33171e8           0.0         957032.0       \n",
       " 272859.0         1.61374e8           0.0          68090.0       \n",
       " 574927.0         5.84803e8           0.0              1.37179e6 \n",
       "      2.90986e6   1.13812e9   …       0.0         606081.0       \n",
       "      2.64244e6   2.01399e9           0.0             -3.42982e6 \n",
       "      1.41412e6   6.64003e8           0.0              2.54162e6 \n",
       "      3.02053e6   1.17539e9           0.0              3.90647e6 \n",
       " 206007.0         2.37097e8           0.0        -124519.0       \n",
       "      2.96794e6   3.19798e9   …       0.0              4.8993e6  \n",
       "      2.65381e6   2.03684e9           0.0              3.80061e6 \n",
       "      6.38387e6   3.87575e9           0.0              3.04817e7 \n",
       "      2.29046e6   1.23256e9           0.0             -1.46404e6 \n",
       " 822290.0         3.27927e8      822290.0              1.18638e6 \n",
       "      6.0236e7    5.75882e10  …       1.18638e6        8.72312e9 "
      ]
     },
     "execution_count": 53,
     "metadata": {},
     "output_type": "execute_result"
    }
   ],
   "source": [
    "xy1 = generate_xy(yrtable1)\n",
    "xy2 = generate_xy(yrtable2)\n",
    "xy3 = generate_xy(yrtable3)\n",
    "xy4 = generate_xy(yrtable4)\n",
    "xy5 = generate_xy(yrtable5)\n",
    "xy6 = generate_xy(yrtable6)\n",
    "\n",
    "G1 = xy1' * xy1\n",
    "G2 = xy2' * xy2\n",
    "G3 = xy3' * xy3\n",
    "G4 = xy4' * xy4\n",
    "G5 = xy5' * xy5\n",
    "G6 = xy6' * xy6\n",
    "\n",
    "G = G1+G2+G3+G4+G5+G6"
   ]
  },
  {
   "cell_type": "code",
   "execution_count": 54,
   "metadata": {},
   "outputs": [
    {
     "data": {
      "text/plain": [
       "26×26 Array{Float64,2}:\n",
       "     -2.00254e-6   4.21792e-11  …   1.98347e-6    1.14033   \n",
       "      3.00028e10  -9.38376e-14     -5.01596e-12   0.00164935\n",
       "      3.69821e8    2.76146e11       1.16836e-10  -0.0118811 \n",
       "      3.91626e6    4.19149e9       -1.97927e-6   -1.8723    \n",
       "  88336.0          3.75197e7       -1.98134e-6   -0.5789    \n",
       " 937547.0          8.30881e8    …  -1.98009e-6   -0.938452  \n",
       " 799117.0          9.55599e8       -1.97878e-6   -1.42247   \n",
       "      1.8094e6     2.03781e9       -1.97887e-6   -2.57627   \n",
       " 669687.0          2.51484e8       -1.98271e-6    1.16808   \n",
       "      3.37715e6    2.9514e9        -1.97993e-6   -2.19625   \n",
       "      1.64509e6    7.42218e8    …  -1.98278e-6    1.03932   \n",
       " 334842.0          2.97744e8       -1.97972e-6   -2.15207   \n",
       "      1.24932e6    8.33171e8       -1.98132e-6   -1.35247   \n",
       " 272859.0          1.61374e8       -1.98044e-6   -1.87248   \n",
       " 574927.0          5.84803e8       -1.97917e-6   -0.350758  \n",
       "      2.90986e6    1.13812e9    …  -1.98262e-6   -1.46395   \n",
       "      2.64244e6    2.01399e9       -1.98034e-6   -3.62506   \n",
       "      1.41412e6    6.64003e8       -1.9822e-6    -0.00722279\n",
       "      3.02053e6    1.17539e9       -1.98236e-6   -0.40365   \n",
       " 206007.0          2.37097e8       -1.97834e-6   -3.5774    \n",
       "      2.96794e6    3.19798e9    …  -1.97923e-6   -1.14816   \n",
       "      2.65381e6    2.03684e9       -1.98051e-6   -0.883753  \n",
       "      6.38387e6    3.87575e9       -1.98156e-6    2.74855   \n",
       "      2.29046e6    1.23256e9       -1.98175e-6   -2.56721   \n",
       " 822290.0          3.27927e8       -3.19909e-6   -0.202211  \n",
       "      6.0236e7     5.75882e10   …   1.18638e6     8.48076e9 "
      ]
     },
     "execution_count": 54,
     "metadata": {},
     "output_type": "execute_result"
    }
   ],
   "source": [
    "# Pkg.add(\"SweepOperator\")\n",
    "using SweepOperator\n",
    "sweep_result = sweep!(G, 1:25)"
   ]
  },
  {
   "cell_type": "code",
   "execution_count": 55,
   "metadata": {},
   "outputs": [
    {
     "data": {
      "text/plain": [
       "25-element Array{Float64,1}:\n",
       "  1.14033   \n",
       "  0.00164935\n",
       " -0.0118811 \n",
       " -1.8723    \n",
       " -0.5789    \n",
       " -0.938452  \n",
       " -1.42247   \n",
       " -2.57627   \n",
       "  1.16808   \n",
       " -2.19625   \n",
       "  1.03932   \n",
       " -2.15207   \n",
       " -1.35247   \n",
       " -1.87248   \n",
       " -0.350758  \n",
       " -1.46395   \n",
       " -3.62506   \n",
       " -0.00722279\n",
       " -0.40365   \n",
       " -3.5774    \n",
       " -1.14816   \n",
       " -0.883753  \n",
       "  2.74855   \n",
       " -2.56721   \n",
       " -0.202211  "
      ]
     },
     "execution_count": 55,
     "metadata": {},
     "output_type": "execute_result"
    }
   ],
   "source": [
    "#coefficient\n",
    "beta =  sweep_result[1:25,26]"
   ]
  },
  {
   "cell_type": "code",
   "execution_count": 65,
   "metadata": {},
   "outputs": [
    {
     "data": {
      "text/plain": [
       "2.001913490791941147215896897940565314165032940323123263649392931745882919913941e+02"
      ]
     },
     "execution_count": 65,
     "metadata": {},
     "output_type": "execute_result"
    }
   ],
   "source": [
    "#estimated variance\n",
    "sigma_square =  sweep_result[26,26]/BigInt(6488541+7129271+7140597+7141923+7453216+7009729-1)\n"
   ]
  },
  {
   "cell_type": "markdown",
   "metadata": {},
   "source": [
    "coefficient standard errors\n",
    "$$var(\\hat{\\beta})=\\hat{\\sigma}^2(X'X)^{-1}$$"
   ]
  },
  {
   "cell_type": "code",
   "execution_count": 71,
   "metadata": {},
   "outputs": [
    {
     "data": {
      "text/plain": [
       "4.008904970143334892251028546440452915612160145754481487935512324851734615550728e-04"
      ]
     },
     "execution_count": 71,
     "metadata": {},
     "output_type": "execute_result"
    }
   ],
   "source": [
    "#coefficient standard errors\n",
    "cse = sigma_square * (-sweep_result[1,1])"
   ]
  },
  {
   "cell_type": "markdown",
   "metadata": {},
   "source": [
    "### Q1(4)\n",
    "\n",
    "Go to your resume/cv and claim you have experience performing analytics on data with hundred millions of observations."
   ]
  },
  {
   "cell_type": "markdown",
   "metadata": {},
   "source": [
    "### Sample code\n",
    "\n",
    "Following code explores the data in 2003 and generates the design matrix and responses for that year. Feel free to use the code in your solution."
   ]
  },
  {
   "cell_type": "code",
   "execution_count": 1,
   "metadata": {},
   "outputs": [
    {
     "name": "stdout",
     "output_type": "stream",
     "text": [
      "Year,Month,DayofMonth,DayOfWeek,DepTime,CRSDepTime,ArrTime,CRSArrTime,UniqueCarrier,FlightNum,TailNum,ActualElapsedTime,CRSElapsedTime,AirTime,ArrDelay,DepDelay,Origin,Dest,Distance,TaxiIn,TaxiOut,Cancelled,CancellationCode,Diverted,CarrierDelay,WeatherDelay,NASDelay,SecurityDelay,LateAircraftDelay\n",
      "2003,1,29,3,1651,1655,1912,1913,UA,1017,N202UA,141,138,119,-1,-4,ORD,MSY,837,5,17,0,NA,0,NA,NA,NA,NA,NA\n",
      "2003,1,30,4,1654,1655,1910,1913,UA,1017,N311UA,136,138,108,-3,-1,ORD,MSY,837,2,26,0,NA,0,NA,NA,NA,NA,NA\n",
      "2003,1,31,5,1724,1655,1936,1913,UA,1017,N317UA,132,138,110,23,29,ORD,MSY,837,5,17,0,NA,0,NA,NA,NA,NA,NA\n",
      "2003,1,1,3,1033,1035,1625,1634,UA,1018,N409UA,232,239,215,-9,-2,OAK,ORD,1835,6,11,0,NA,0,NA,NA,NA,NA,NA\n",
      "2003,1,2,4,1053,1035,1726,1634,UA,1018,N496UA,273,239,214,52,18,OAK,ORD,1835,13,46,0,NA,0,NA,NA,NA,NA,NA\n",
      "2003,1,3,5,1031,1035,1640,1634,UA,1018,N412UA,249,239,223,6,-4,OAK,ORD,1835,13,13,0,NA,0,NA,NA,NA,NA,NA\n",
      "2003,1,4,6,1031,1035,1626,1634,UA,1018,N455UA,235,239,219,-8,-4,OAK,ORD,1835,5,11,0,NA,0,NA,NA,NA,NA,NA\n",
      "2003,1,5,7,1035,1035,1636,1634,UA,1018,N828UA,241,239,227,2,0,OAK,ORD,1835,5,9,0,NA,0,NA,NA,NA,NA,NA\n",
      "2003,1,6,1,1031,1035,1653,1634,UA,1018,N453UA,262,239,241,19,-4,OAK,ORD,1835,7,14,0,NA,0,NA,NA,NA,NA,NA\n"
     ]
    }
   ],
   "source": [
    ";head 2003.csv"
   ]
  },
  {
   "cell_type": "code",
   "execution_count": 2,
   "metadata": {},
   "outputs": [
    {
     "data": {
      "text/plain": [
       "6488541"
      ]
     },
     "execution_count": 2,
     "metadata": {},
     "output_type": "execute_result"
    }
   ],
   "source": [
    "# how many data points\n",
    "countlines(\"2003.csv\")"
   ]
  },
  {
   "cell_type": "code",
   "execution_count": 32,
   "metadata": {},
   "outputs": [
    {
     "name": "stdout",
     "output_type": "stream",
     "text": [
      " 54.646481 seconds (144.01 M allocations: 7.497 GiB, 24.77% gc time)\n"
     ]
    },
    {
     "data": {
      "text/plain": [
       "Table with 6488540 rows, 4 columns:\n",
       "DepDelay  ArrDelay  UniqueCarrier  Distance\n",
       "───────────────────────────────────────────\n",
       "-4        -1        \"UA\"           837\n",
       "-1        -3        \"UA\"           837\n",
       "29        23        \"UA\"           837\n",
       "-2        -9        \"UA\"           1835\n",
       "18        52        \"UA\"           1835\n",
       "-4        6         \"UA\"           1835\n",
       "-4        -8        \"UA\"           1835\n",
       "0         2         \"UA\"           1835\n",
       "-4        19        \"UA\"           1835\n",
       "3         4         \"UA\"           413\n",
       "-4        -23       \"UA\"           413\n",
       "-3        -19       \"UA\"           413\n",
       "⋮\n",
       "#NA       #NA       \"DL\"           1891\n",
       "29        62        \"DL\"           581\n",
       "39        66        \"DL\"           1891\n",
       "26        27        \"DL\"           1678\n",
       "114       134       \"DL\"           946\n",
       "44        53        \"DL\"           813\n",
       "16        47        \"DL\"           432\n",
       "50        54        \"DL\"           432\n",
       "-3        -5        \"DL\"           453\n",
       "3         3         \"DL\"           689\n",
       "-1        -1        \"DL\"           1929"
      ]
     },
     "execution_count": 32,
     "metadata": {},
     "output_type": "execute_result"
    }
   ],
   "source": [
    "# import data from csv\n",
    "using JuliaDB\n",
    "# only need columns: DepDelay, ArrDelay, UniqueCarrier, Distance\n",
    "@time yrtable = loadtable(\n",
    "    \"2003.csv\", \n",
    "    datacols = [\"DepDelay\", \"ArrDelay\", \"UniqueCarrier\", \"Distance\"])"
   ]
  },
  {
   "cell_type": "code",
   "execution_count": 33,
   "metadata": {},
   "outputs": [
    {
     "data": {
      "text/plain": [
       "Table with 6375689 rows, 4 columns:\n",
       "DepDelay  ArrDelay  UniqueCarrier  Distance\n",
       "───────────────────────────────────────────\n",
       "-4        -1        \"UA\"           837\n",
       "-1        -3        \"UA\"           837\n",
       "29        23        \"UA\"           837\n",
       "-2        -9        \"UA\"           1835\n",
       "18        52        \"UA\"           1835\n",
       "-4        6         \"UA\"           1835\n",
       "-4        -8        \"UA\"           1835\n",
       "0         2         \"UA\"           1835\n",
       "-4        19        \"UA\"           1835\n",
       "3         4         \"UA\"           413\n",
       "-4        -23       \"UA\"           413\n",
       "-3        -19       \"UA\"           413\n",
       "⋮\n",
       "70        66        \"DL\"           1891\n",
       "29        62        \"DL\"           581\n",
       "39        66        \"DL\"           1891\n",
       "26        27        \"DL\"           1678\n",
       "114       134       \"DL\"           946\n",
       "44        53        \"DL\"           813\n",
       "16        47        \"DL\"           432\n",
       "50        54        \"DL\"           432\n",
       "-3        -5        \"DL\"           453\n",
       "3         3         \"DL\"           689\n",
       "-1        -1        \"DL\"           1929"
      ]
     },
     "execution_count": 33,
     "metadata": {},
     "output_type": "execute_result"
    }
   ],
   "source": [
    "# drop rows with missing values\n",
    "yrtable = dropna(yrtable)"
   ]
  },
  {
   "cell_type": "code",
   "execution_count": 51,
   "metadata": {},
   "outputs": [
    {
     "name": "stderr",
     "output_type": "stream",
     "text": [
      "WARNING: redefining constant var2col\n",
      "WARNING: redefining constant col2var\n"
     ]
    },
    {
     "data": {
      "text/plain": [
       "generate_xy (generic function with 1 method)"
      ]
     },
     "execution_count": 51,
     "metadata": {},
     "output_type": "execute_result"
    }
   ],
   "source": [
    "# mapping from variable names to X columns\n",
    "# carrier \"9E\" is used as base level\n",
    "const var2col = Dict(\n",
    "        \"Intercept\" => 1,\n",
    "        \"Distance\" => 2,\n",
    "        \"DepDelay\" => 3,\n",
    "        \"AA\" => 4,\n",
    "        \"AQ\" => 5,\n",
    "        \"AS\" => 6,\n",
    "        \"B6\" => 7,\n",
    "        \"CO\" => 8,\n",
    "        \"DH\" => 9,\n",
    "        \"DL\" => 10,\n",
    "        \"EV\" => 11,\n",
    "        \"F9\" => 12,\n",
    "        \"FL\" => 13,\n",
    "        \"HA\" => 14,\n",
    "        \"HP\" => 15,\n",
    "        \"MQ\" => 16,\n",
    "        \"NW\" => 17,\n",
    "        \"OH\" => 18,\n",
    "        \"OO\" => 19,\n",
    "        \"TZ\" => 20,\n",
    "        \"UA\" => 21,\n",
    "        \"US\" => 22,\n",
    "        \"WN\" => 23,\n",
    "        \"XE\" => 24,\n",
    "        \"YV\" => 25,\n",
    "        \"Gain\" => 26)\n",
    "# mapping from column to variable names\n",
    "const col2var = map(reverse, var2col)\n",
    "\n",
    "# a custom function to generate [X y] from data table\n",
    "function generate_xy(tbl::NextTable)\n",
    "    # X matrix\n",
    "    XY = zeros(length(tbl), 26)\n",
    "    # intercept term\n",
    "    @views fill!(XY[:, 1], 1)\n",
    "    # Distance term\n",
    "    @views copy!(XY[:, 2], columns(tbl, :Distance))\n",
    "    # DepDelay term\n",
    "    @views copy!(XY[:, 3], columns(tbl, :DepDelay))\n",
    "    # Dummy coding for airline\n",
    "    @inbounds for i in 1:length(tbl)\n",
    "        tbl[i][:UniqueCarrier] == \"9E\" && continue # base level\n",
    "        XY[i, var2col[tbl[i][:UniqueCarrier]]] = 1\n",
    "    end\n",
    "    # last column is response: gain = depdelay - arrdelay\n",
    "    XY[:, 26] = select(tbl, \n",
    "        (:DepDelay, :ArrDelay) => p -> Float64(p.DepDelay - p.ArrDelay))\n",
    "    # return\n",
    "    XY\n",
    "end"
   ]
  },
  {
   "cell_type": "code",
   "execution_count": 6,
   "metadata": {},
   "outputs": [
    {
     "name": "stdout",
     "output_type": "stream",
     "text": [
      "  2.518327 seconds (19.38 M allocations: 1.961 GiB, 17.96% gc time)\n"
     ]
    },
    {
     "data": {
      "text/plain": [
       "6375689×26 Array{Float64,2}:\n",
       " 1.0   837.0   -4.0  0.0  0.0  0.0  …  0.0  1.0  0.0  0.0  0.0  0.0   -3.0\n",
       " 1.0   837.0   -1.0  0.0  0.0  0.0     0.0  1.0  0.0  0.0  0.0  0.0    2.0\n",
       " 1.0   837.0   29.0  0.0  0.0  0.0     0.0  1.0  0.0  0.0  0.0  0.0    6.0\n",
       " 1.0  1835.0   -2.0  0.0  0.0  0.0     0.0  1.0  0.0  0.0  0.0  0.0    7.0\n",
       " 1.0  1835.0   18.0  0.0  0.0  0.0     0.0  1.0  0.0  0.0  0.0  0.0  -34.0\n",
       " 1.0  1835.0   -4.0  0.0  0.0  0.0  …  0.0  1.0  0.0  0.0  0.0  0.0  -10.0\n",
       " 1.0  1835.0   -4.0  0.0  0.0  0.0     0.0  1.0  0.0  0.0  0.0  0.0    4.0\n",
       " 1.0  1835.0    0.0  0.0  0.0  0.0     0.0  1.0  0.0  0.0  0.0  0.0   -2.0\n",
       " 1.0  1835.0   -4.0  0.0  0.0  0.0     0.0  1.0  0.0  0.0  0.0  0.0  -23.0\n",
       " 1.0   413.0    3.0  0.0  0.0  0.0     0.0  1.0  0.0  0.0  0.0  0.0   -1.0\n",
       " 1.0   413.0   -4.0  0.0  0.0  0.0  …  0.0  1.0  0.0  0.0  0.0  0.0   19.0\n",
       " 1.0   413.0   -3.0  0.0  0.0  0.0     0.0  1.0  0.0  0.0  0.0  0.0   16.0\n",
       " 1.0   413.0    0.0  0.0  0.0  0.0     0.0  1.0  0.0  0.0  0.0  0.0   12.0\n",
       " ⋮                             ⋮    ⋱       ⋮                          ⋮  \n",
       " 1.0   406.0  104.0  0.0  0.0  0.0     0.0  0.0  0.0  0.0  0.0  0.0   -4.0\n",
       " 1.0  1891.0   70.0  0.0  0.0  0.0     0.0  0.0  0.0  0.0  0.0  0.0    4.0\n",
       " 1.0   581.0   29.0  0.0  0.0  0.0     0.0  0.0  0.0  0.0  0.0  0.0  -33.0\n",
       " 1.0  1891.0   39.0  0.0  0.0  0.0  …  0.0  0.0  0.0  0.0  0.0  0.0  -27.0\n",
       " 1.0  1678.0   26.0  0.0  0.0  0.0     0.0  0.0  0.0  0.0  0.0  0.0   -1.0\n",
       " 1.0   946.0  114.0  0.0  0.0  0.0     0.0  0.0  0.0  0.0  0.0  0.0  -20.0\n",
       " 1.0   813.0   44.0  0.0  0.0  0.0     0.0  0.0  0.0  0.0  0.0  0.0   -9.0\n",
       " 1.0   432.0   16.0  0.0  0.0  0.0     0.0  0.0  0.0  0.0  0.0  0.0  -31.0\n",
       " 1.0   432.0   50.0  0.0  0.0  0.0  …  0.0  0.0  0.0  0.0  0.0  0.0   -4.0\n",
       " 1.0   453.0   -3.0  0.0  0.0  0.0     0.0  0.0  0.0  0.0  0.0  0.0    2.0\n",
       " 1.0   689.0    3.0  0.0  0.0  0.0     0.0  0.0  0.0  0.0  0.0  0.0    0.0\n",
       " 1.0  1929.0   -1.0  0.0  0.0  0.0     0.0  0.0  0.0  0.0  0.0  0.0    0.0"
      ]
     },
     "execution_count": 6,
     "metadata": {},
     "output_type": "execute_result"
    }
   ],
   "source": [
    "@time xy = generate_xy(yrtable)"
   ]
  }
 ],
 "metadata": {
  "kernelspec": {
   "display_name": "Julia 0.6.2",
   "language": "julia",
   "name": "julia-0.6"
  },
  "language_info": {
   "file_extension": ".jl",
   "mimetype": "application/julia",
   "name": "julia",
   "version": "0.6.2"
  },
  "toc": {
   "colors": {
    "hover_highlight": "#DAA520",
    "running_highlight": "#FF0000",
    "selected_highlight": "#FFD700"
   },
   "moveMenuLeft": true,
   "nav_menu": {
    "height": "87px",
    "width": "252px"
   },
   "navigate_menu": true,
   "number_sections": false,
   "sideBar": true,
   "threshold": 4,
   "toc_cell": false,
   "toc_section_display": "block",
   "toc_window_display": true,
   "widenNotebook": false
  }
 },
 "nbformat": 4,
 "nbformat_minor": 2
}
