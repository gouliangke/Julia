{
 "cells": [
  {
   "cell_type": "markdown",
   "metadata": {},
   "source": [
    "# Linear Mixed Models"
   ]
  },
  {
   "cell_type": "markdown",
   "metadata": {},
   "source": [
    "Consider a linear mixed effects model\n",
    "$$\n",
    "\ty_i = \\mathbf{x}_i^T \\beta + \\mathbf{z}_i^T \\gamma + \\epsilon_i, \\quad i=1,\\ldots,n,\n",
    "$$\n",
    "where $\\epsilon_i$ are independent normal errors $N(0,\\sigma_0^2)$, $\\beta \\in \\mathbb{R}^p$ are fixed effects, and $\\gamma \\in \\mathbb{R}^q$ are random effects assumed to be $N(\\mathbf{0}_q, \\sigma_1^2 \\mathbf{I}_q$) independent of $\\epsilon_i$. \n",
    "\n",
    "0. Show that \n",
    "$$\n",
    "    \\mathbf{y} \\sim N \\left( \\mathbf{X} \\beta, \\sigma_0^2 \\mathbf{I}_n + \\sigma_1^2 \\mathbf{Z} \\mathbf{Z}^T \\right),\n",
    "$$\n",
    "where $\\mathbf{y} = (y_1, \\ldots, y_n)^T \\in \\mathbb{R}^n$, $\\mathbf{X} = (\\mathbf{x}_1, \\ldots, \\mathbf{x}_n)^T \\in \\mathbb{R}^{n \\times p}$, and $\\mathbf{Z} = (\\mathbf{z}_1, \\ldots, \\mathbf{z}_n)^T \\in \\mathbb{R}^{n \\times q}$. \n",
    "\n",
    "0. Write a function, with interface \n",
    "    ```julia\n",
    "    logpdf_mvn(y::Vector, Z::Matrix, σ0::Number, σ1::Number),\n",
    "    ```\n",
    "that evaluates the log-density of a multivariate normal with mean $\\mathbf{0}$ and covariance $\\sigma_0^2 \\mathbf{I} + \\sigma_1^2 \\mathbf{Z} \\mathbf{Z}^T$ at $\\mathbf{y}$. Make your code efficient in the $n \\gg q$ case. \n",
    "\n",
    "0. Compare your result (both accuracy and timing) to the [Distributions.jl](http://distributionsjl.readthedocs.io/en/latest/multivariate.html#multivariate-normal-distribution) package using following data.  \n",
    "    ```julia\n",
    "    using BenchmarkTools, Distributions\n",
    "\n",
    "    srand(280)\n",
    "    n, q = 2000, 10\n",
    "    Z = randn(n, q)\n",
    "    σ0, σ1 = 0.5, 2.0\n",
    "    Σ = σ1^2 * Z * Z.' + σ0^2 * I\n",
    "    mvn = MvNormal(Σ) # MVN(0, Σ)\n",
    "    y = rand(mvn) # generate one instance from MNV(0, Σ)\n",
    "\n",
    "    # check you answer matches that from Distributions.jl\n",
    "    @show logpdf_mvn(y, Z, σ0, σ1)\n",
    "    @show logpdf(mvn, y)\n",
    "\n",
    "    # benchmark\n",
    "    @benchmark logpdf_mvn(y, Z, σ0, σ1)\n",
    "    @benchmark logpdf(mvn, y)\n",
    "    ```"
   ]
  },
  {
   "cell_type": "markdown",
   "metadata": {},
   "source": [
    "1.Show that \n",
    "$$\n",
    "    \\mathbf{y} \\sim N \\left( \\mathbf{X} \\beta, \\sigma_0^2 \\mathbf{I}_n + \\sigma_1^2 \\mathbf{Z} \\mathbf{Z}^T \\right),\n",
    "$$\n",
    "where $\\mathbf{y} = (y_1, \\ldots, y_n)^T \\in \\mathbb{R}^n$, $\\mathbf{X} = (\\mathbf{x}_1, \\ldots, \\mathbf{x}_n)^T \\in \\mathbb{R}^{n \\times p}$, and $$\\mathbf{Z} = (\\mathbf{z}_1, \\ldots, \\mathbf{z}_n)^T \\in \\mathbb{R}^{n \\times q}$$\n",
    "\n",
    "Solution:\n",
    "\n",
    "I infer the distribution of $\\mathbf{y}$ by infering the mean and variance separately.\n",
    "\n",
    "For mean of $\\mathbf{y}$:\n",
    "$$E(\\mathbf{y}) = E(\\mathbf{x}_i^T \\beta + \\mathbf{z}_i^T \\gamma + \\epsilon_i)$$\n",
    "$$= E(\\mathbf{x}_i^T \\beta) + E(\\mathbf{z}_i^T \\gamma) + E(\\epsilon_i)$$\n",
    "$$= \\mathbf{X}\\beta + 0 + \\mathbf{0}_q $$\n",
    "$$= \\mathbf{X}\\beta $$\n",
    "\n",
    "For variance of $\\mathbf{y}$:\n",
    "$$var(\\mathbf{y}) = var(\\mathbf{x}_i^T \\beta + \\mathbf{z}_i^T \\gamma + \\epsilon_i)$$\n",
    "Because $\\mathbf{x}_i^T \\beta$ is fixed, so $var(\\mathbf{x}_i^T \\beta)=0$ and $\\mathbf{x}_i^T \\beta$ is independent of $\\mathbf{z}_i^T \\gamma$ and $\\epsilon_i$. So the covariance is also 0.\n",
    "\n",
    "Therefore, we can simplify $var(\\mathbf{y})$ to \n",
    "$$var(\\mathbf{y}) = var(\\mathbf{z}_i^T \\gamma) + var(\\epsilon_i) + 2cov(\\mathbf{z}_i^T \\gamma, \\epsilon_i)$$\n",
    "Because $\\mathbf{z}_i^T \\gamma$ and $\\epsilon_i$ are independent, so $cov(\\mathbf{z}_i^T \\gamma, \\epsilon_i)=0$.\n",
    "$$var(\\mathbf{y}) = var(\\mathbf{z}_i^T \\gamma) + var(\\epsilon_i)$$\n",
    "$$= \\sigma_1^2 \\mathbf{Z} \\mathbf{Z}^T + \\sigma_0^2 \\mathbf{I}_n$$\n",
    "\n",
    "So \n",
    "$$\n",
    "    \\mathbf{y} \\sim N \\left( \\mathbf{X} \\beta, \\sigma_0^2 \\mathbf{I}_n + \\sigma_1^2 \\mathbf{Z} \\mathbf{Z}^T \\right)\n",
    "$$\n"
   ]
  },
  {
   "cell_type": "markdown",
   "metadata": {},
   "source": [
    "2.Write a function, with interface that evaluates the log-density of a multivariate normal with mean $\\mathbf{0}$ and covariance $\\sigma_0^2 \\mathbf{I} + \\sigma_1^2 \\mathbf{Z} \\mathbf{Z}^T$ at $\\mathbf{y}$. Make your code efficient in the $n \\gg q$ case. \n",
    "    \n",
    "multivariant normal the PDF is \n",
    "$$det(2\\pi\\Sigma)^{-1/2}e^{-1/2(y-\\mu)'\\Sigma^{-1}(y-\\mu)}$$\n",
    "where $\\mu = 0$, and $\\Sigma = \\sigma_0^2 \\mathbf{I} + \\sigma_1^2 \\mathbf{Z} \\mathbf{Z}^T$\n",
    "\n",
    "I first simplify different components separately:\n",
    "$$det(2\\pi\\Sigma)=det(2\\pi\\sigma_0^2I+2\\pi\\sigma_{1}^2ZZ^T)$$\n",
    "$$det(2\\pi\\Sigma)=det(2\\pi\\sigma_0^2I+2\\pi\\sigma_{1}^2ZZ^T)$$\n",
    "$$=2\\pi\\sigma_0^2 det(I)+2\\pi\\sigma_{1}^2det(ZZ^T)$$\n",
    "$$=2\\pi\\sigma_0^2 +2\\pi\\sigma_{1}^2det(ZZ^T)$$\n",
    "\n",
    "Let's move to another part:\n",
    "$$-\\frac{1}{2}y'(\\sigma_0^2I+\\sigma_1^2ZZ^T)^{-1}y$$\n",
    "\n",
    "This part I notice the $\\sigma_0^2I+\\sigma_1^2ZZ^T$ is positive definite square matrix, so we can use cholesky decomposition to decompose it first and use the upper and lower triagle matrix to times the $y'$ and $y$ later."
   ]
  },
  {
   "cell_type": "code",
   "execution_count": 9,
   "metadata": {},
   "outputs": [
    {
     "data": {
      "text/plain": [
       "logpdf_mvn (generic function with 2 methods)"
      ]
     },
     "execution_count": 9,
     "metadata": {},
     "output_type": "execute_result"
    }
   ],
   "source": [
    "# this is an efficiency-savvy person \n",
    "\n",
    "function logpdf_mvn(y::Vector, Z::Matrix, σ0::Number, σ1::Number)\n",
    "    \n",
    "    s0 = σ0^2\n",
    "    s1 = σ1^2\n",
    "    \n",
    "    #Σ = s0 * I + s1 * At_mul_B(Z,Z)\n",
    "    #Σ = s0*I + s1*Z*Z.'\n",
    "\n",
    "    \n",
    "    #n = length(y)\n",
    "    #Σchol = cholfact(Symmetric(Σ))\n",
    "    \n",
    "    #logdet(Σchol) = s0 * logdet(diag(n) + s0 * Z' * Z \n",
    "    n = size(Z,1)\n",
    "    q = size(Z,2)\n",
    "    \n",
    "    logdetchol = log(s0)*n + logdet(eye(q) + s1/s0 * At_mul_B(Z,Z) )\n",
    "    \n",
    "    \n",
    "    chol=cholfact(eye(q)+1/s0*At_mul_B(Z,Z))\n",
    "    #inversechol = 1/s0 - 1/s0*(Z*chol[:U]) * (chol[:L]*Z').*s1/s0\n",
    "    middle = eye(q)+s1/s0*Z'*Z\n",
    "    cholmiddle = cholfact(Symmetric(eye(q)+s1/s0*Z'*Z))\n",
    "    inversechol = 1/s0*eye(n) - s1/(s0^2)*(Z*inv(cholmiddle)*Z') #I know here I should use cholesky to replace inv,\n",
    "                                                                #but there is some error for the final result if I use\n",
    "                                                                #that...feel I should improve my understanding of using \n",
    "                                                                #chelesky to inv\n",
    "    #inversechol = 1/s0*eye(n) - s1/(s0^2)*sum(abs2,cholmiddle[:L]\\cholmiddle)\n",
    "    #inversechol = 1/s0*eye(n) - s1/(s0^2)*(Z*inv(eye(q)+s1/s0*Z'*Z)*Z')\n",
    "    last = y' * inversechol * y\n",
    "    \n",
    "    - (n//2) * log(2π) - (1//2) * logdetchol - (1//2)*last\n",
    "    \n",
    "    #- (n//2) * log(2π) - (1//2) * logdet(Σchol) - (1//2) * dot(y, Σchol \\ y)\n",
    "   \n",
    "    \n",
    "end\n"
   ]
  },
  {
   "cell_type": "markdown",
   "metadata": {},
   "source": [
    "3.Compare your result (both accuracy and timing) to the [Distributions.jl]"
   ]
  },
  {
   "cell_type": "code",
   "execution_count": 10,
   "metadata": {},
   "outputs": [
    {
     "name": "stdout",
     "output_type": "stream",
     "text": [
      "logpdf_mvn(y, Z, σ0, σ1) = -1571.5736734654702\n"
     ]
    },
    {
     "data": {
      "text/plain": [
       "BenchmarkTools.Trial: \n",
       "  memory estimate:  153.54 MiB\n",
       "  allocs estimate:  58\n",
       "  --------------\n",
       "  minimum time:     65.797 ms (28.49% GC)\n",
       "  median time:      141.278 ms (66.49% GC)\n",
       "  mean time:        147.715 ms (66.90% GC)\n",
       "  maximum time:     189.022 ms (70.83% GC)\n",
       "  --------------\n",
       "  samples:          34\n",
       "  evals/sample:     1"
      ]
     },
     "execution_count": 10,
     "metadata": {},
     "output_type": "execute_result"
    }
   ],
   "source": [
    "using BenchmarkTools, Distributions\n",
    "\n",
    "    srand(280)\n",
    "    n, q = 2000, 10\n",
    "    Z = randn(n, q)\n",
    "    σ0, σ1 = 0.5, 2.0\n",
    "    Σ = σ1^2 * Z * Z.' + σ0^2 * I\n",
    "    mvn = MvNormal(Σ) # MVN(0, Σ)\n",
    "    y = rand(mvn) # generate one instance from MNV(0, Σ)\n",
    "    @show logpdf_mvn(y, Z, σ0, σ1)\n",
    "    @benchmark logpdf_mvn(y, Z, σ0, σ1)"
   ]
  },
  {
   "cell_type": "code",
   "execution_count": 3,
   "metadata": {},
   "outputs": [
    {
     "name": "stdout",
     "output_type": "stream",
     "text": [
      "logpdf(mvn, y) = -1571.5736734654186\n"
     ]
    },
    {
     "data": {
      "text/plain": [
       "BenchmarkTools.Trial: \n",
       "  memory estimate:  15.78 KiB\n",
       "  allocs estimate:  3\n",
       "  --------------\n",
       "  minimum time:     5.620 ms (0.00% GC)\n",
       "  median time:      5.826 ms (0.00% GC)\n",
       "  mean time:        5.955 ms (0.00% GC)\n",
       "  maximum time:     9.236 ms (0.00% GC)\n",
       "  --------------\n",
       "  samples:          837\n",
       "  evals/sample:     1"
      ]
     },
     "execution_count": 3,
     "metadata": {},
     "output_type": "execute_result"
    }
   ],
   "source": [
    "using BenchmarkTools, Distributions\n",
    "\n",
    "    srand(280)\n",
    "    n, q = 2000, 10\n",
    "    Z = randn(n, q)\n",
    "    σ0, σ1 = 0.5, 2.0\n",
    "    Σ = σ1^2 * Z * Z.' + σ0^2 * I\n",
    "    mvn = MvNormal(Σ) # MVN(0, Σ)\n",
    "    y = rand(mvn) # generate one instance from MNV(0, Σ)   \n",
    "    @show logpdf(mvn, y)    \n",
    "    @benchmark logpdf(mvn, y)"
   ]
  },
  {
   "cell_type": "code",
   "execution_count": null,
   "metadata": {},
   "outputs": [],
   "source": []
  }
 ],
 "metadata": {
  "kernelspec": {
   "display_name": "Julia 0.6.2",
   "language": "julia",
   "name": "julia-0.6"
  },
  "language_info": {
   "file_extension": ".jl",
   "mimetype": "application/julia",
   "name": "julia",
   "version": "0.6.2"
  },
  "toc": {
   "colors": {
    "hover_highlight": "#DAA520",
    "running_highlight": "#FF0000",
    "selected_highlight": "#FFD700"
   },
   "moveMenuLeft": true,
   "nav_menu": {
    "height": "87px",
    "width": "252px"
   },
   "navigate_menu": true,
   "number_sections": true,
   "sideBar": true,
   "threshold": 4,
   "toc_cell": false,
   "toc_section_display": "block",
   "toc_window_display": false,
   "widenNotebook": false
  }
 },
 "nbformat": 4,
 "nbformat_minor": 2
}
