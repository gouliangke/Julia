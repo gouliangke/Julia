{
 "cells": [
  {
   "cell_type": "markdown",
   "metadata": {},
   "source": [
    "We are going to try different numerical methods learnt in class on the [Google PageRank problem](https://en.wikipedia.org/wiki/PageRank)."
   ]
  },
  {
   "cell_type": "markdown",
   "metadata": {},
   "source": [
    "### (1)\n",
    "\n",
    "Let $\\mathbf{A} \\in \\{0,1\\}^{n \\times n}$ be the connectivity matrix of $n$ web pages with entries\n",
    "$$\n",
    "\\begin{eqnarray*}\n",
    "\ta_{ij}= \\begin{cases}\n",
    "\t1 & \\text{if page $i$ links to page $j$} \\\\\n",
    "\t0 & \\text{otherwise}\n",
    "\t\\end{cases}.\n",
    "\\end{eqnarray*}\n",
    "$$\n",
    "$r_i = \\sum_j a_{ij}$ is the out-degree of page $i$. That is $r_i$ is the number of links on page $i$. Imagine a random surfer exploring the space of $n$ pages according to the following rules.  \n",
    "\n",
    "- From a page $i$ with $r_i>0$\n",
    "    * with probability $p$, (s)he randomly chooses a link on page $i$ (uniformly) and follows that link to the next page  \n",
    "    * with probability $1-p$, (s)he randomly chooses one page from the set of all $n$ pages (uniformly) and proceeds to that page  \n",
    "- From a page $i$ with $r_i=0$ (a dangling page), (s)he randomly chooses one page from the set of all $n$ pages (uniformly) and proceeds to that page  \n",
    "    \n",
    "The process defines a Markov chain on the space of $n$ pages. Write down the transition matrix $\\mathbf{P}$ of the Markov chain as a sparse matrix plus rank-1 matrix."
   ]
  },
  {
   "cell_type": "markdown",
   "metadata": {},
   "source": [
    "Solution:\n",
    "\n",
    "$$P_{ij} = p\\frac{a_{ij}}{r_i} + (1-p)\\frac{1}{n}$$\n",
    "when $r_i>0$\n",
    "$$P = diag(\\frac{p}{r_1}, ...,\\frac{p}{r_n})A + \\frac{(1-p)}{n}1_n1_n^T$$\n",
    "when $r_i=0$\n",
    "$$P=\\frac{1}{n}$$\n",
    "Because $A$ is a sparse matrix, so the above format is a sparse matrix plus a rank-1 matrix."
   ]
  },
  {
   "cell_type": "markdown",
   "metadata": {
    "collapsed": true
   },
   "source": [
    "### (2)\n",
    "\n",
    "According to standard Markov chain theory, the (random) position of the surfer converges to the stationary distribution $\\mathbf{x} = (x_1,\\ldots,x_n)^T$ of the Markov chain. $x_i$ has the natural interpretation of the proportion of times the surfer visits page $i$ in the long run. Therefore $\\mathbf{x}$ serves as page ranks: a higher $x_i$ means page $i$ is more visited. It is well-known that $\\mathbf{x}$ is the left eigenvector corresponding to the top eigenvalue 1 of the transition matrix $\\mathbf{P}$. That is $\\mathbf{P}^T \\mathbf{x} = \\mathbf{x}$. Therefore $\\mathbf{x}$ can be solved as an eigen-problem. Show that it can also be cast as solving a linear system. Since the row sums of $\\mathbf{P}$ are 1, $\\mathbf{P}$ is rank deficient. We can replace the first equation by the $\\sum_{i=1}^n x_i = 1$."
   ]
  },
  {
   "cell_type": "markdown",
   "metadata": {},
   "source": [
    "Solution:\n",
    "\n",
    "$$x^TP=x^T$$\n",
    "$$P^Tx=x$$ need to find the top eigen value of $P$\n",
    "$$(P^T-I)x=0$$\n",
    "so it can also be cast as solving a linear system"
   ]
  },
  {
   "cell_type": "markdown",
   "metadata": {},
   "source": [
    "### (3)\n",
    "\n",
    "Download the [`ucla.zip`](http://hua-zhou.github.io/teaching/biostatm280-2018spring/hw/hw3/ucla.zip) package from course webpage. Unzip the package, which contains two files `U.txt` and `A.txt`. `U.txt` lists the 500 URL names. `A.txt` is the $500 \\times 500$ connectivity matrix. Read data into Julia. Compute summary statistics:\n",
    "* number of pages\n",
    "* number of edges\n",
    "* number of dangling nodes (pages with no out links)\n",
    "* which page has max in-degree?\n",
    "* which page has max out-degree?\n",
    "* visualize the sparsity pattern of $\\mathbf{A}$"
   ]
  },
  {
   "cell_type": "code",
   "execution_count": 3,
   "metadata": {},
   "outputs": [
    {
     "name": "stdout",
     "output_type": "stream",
     "text": [
      "size(U) = (500, 3)\n",
      "size(A) = (500, 500)\n",
      "sum(edges) = 11158.0\n",
      "dangling = 96\n",
      "indmax(in) = 36\n",
      "indmax(out) = 1\n"
     ]
    },
    {
     "data": {
      "text/plain": [
       "1"
      ]
     },
     "execution_count": 3,
     "metadata": {},
     "output_type": "execute_result"
    }
   ],
   "source": [
    "U = readdlm(\"U.txt\", ',')\n",
    "A = readdlm(\"A.txt\", ',')\n",
    "\n",
    "#pages\n",
    "@show size(U)\n",
    "@show size(A)\n",
    "\n",
    "#edges (this need double check)\n",
    "edges = sum(A,2)\n",
    "@show sum(edges)\n",
    "\n",
    "#dangling notes\n",
    "nodes = countnz(edges)\n",
    "dangling = 500 - nodes\n",
    "@show dangling\n",
    "\n",
    "# in-degree\n",
    "in = sum(A,2)\n",
    "@show indmax(in)\n",
    "\n",
    "# out-degree\n",
    "out = sum(A,1)\n",
    "@show indmax(out)"
   ]
  },
  {
   "cell_type": "markdown",
   "metadata": {},
   "source": [
    "1.the number of pages is 500\n",
    "\n",
    "2.number of edges is 11158\n",
    "\n",
    "3.number of dangling notes is 96\n",
    "\n",
    "4.page 36 has the max in-degree \n",
    "\n",
    "5.page 1 has the max out-degree"
   ]
  },
  {
   "cell_type": "code",
   "execution_count": 8,
   "metadata": {},
   "outputs": [
    {
     "data": {
      "image/png": "[encoded data removed]",
      "text/plain": [
       "PyPlot.Figure(PyObject <Figure size 480x480 with 1 Axes>)"
      ]
     },
     "metadata": {},
     "output_type": "display_data"
    },
    {
     "data": {
      "text/plain": [
       "PyObject <matplotlib.image.AxesImage object at 0x119959f10>"
      ]
     },
     "execution_count": 8,
     "metadata": {},
     "output_type": "execute_result"
    }
   ],
   "source": [
    "# visulize sparsity pattern of A\n",
    "using PyPlot\n",
    "matshow(A)"
   ]
  },
  {
   "cell_type": "markdown",
   "metadata": {},
   "source": [
    "### (4)\n",
    "\n",
    "Set the _teleportation_ parameter at $p = 0.85$. Try the following methods to solve for $\\mathbf{x}$ using the `ucla.zip` data.\n",
    "\n",
    "0. A dense linear system solver such as LU decomposition.  \n",
    "0. A simple iterative linear system solver such as Jacobi or Gauss-Seidel.   \n",
    "0. A dense eigen-solver.  \n",
    "0. A simple iterative eigen-solver such as the power method.  \n",
    "\n",
    "For iterative methods, you can use the [`IterativeSolvers.jl`](https://github.com/JuliaMath/IterativeSolvers.jl) package. Make sure to utilize the special structure of $\\mathbf{P}$ (diagonal + rank 1) to speed up the matrix-vector multiplication."
   ]
  },
  {
   "cell_type": "code",
   "execution_count": 4,
   "metadata": {},
   "outputs": [
    {
     "data": {
      "text/plain": [
       "500-element Array{Float64,1}:\n",
       " 0.0115263 \n",
       " 0.00118521\n",
       " 0.00368196\n",
       " 0.00361842\n",
       " 0.00118521\n",
       " 0.00118521\n",
       " 0.00118521\n",
       " 0.00118521\n",
       " 0.00118521\n",
       " 0.00118521\n",
       " 0.00118521\n",
       " 0.00137118\n",
       " 0.00133263\n",
       " ⋮         \n",
       " 0.00136037\n",
       " 0.00136037\n",
       " 0.00129072\n",
       " 0.00337188\n",
       " 0.00215239\n",
       " 0.00136037\n",
       " 0.00136037\n",
       " 0.00750605\n",
       " 0.00136037\n",
       " 0.00136037\n",
       " 0.00136037\n",
       " 0.00107129"
      ]
     },
     "execution_count": 4,
     "metadata": {},
     "output_type": "execute_result"
    }
   ],
   "source": [
    "#1.\n",
    "n = 500\n",
    "p = 0.85\n",
    "\n",
    "deg_in = sum(A,2)\n",
    "intermediate = zeros(deg_in)\n",
    "addin = zeros(A)\n",
    "\n",
    "for i in collect(1:1:500) \n",
    "    if deg_in[i] > 0\n",
    "        intermediate[i] = p/deg_in[i] \n",
    "        addin[i,:] = (1-p)/n\n",
    "    elseif deg_in[i] == 0\n",
    "        intermediate[i] = 0\n",
    "        addin[i,:] = 1/n\n",
    "    end \n",
    "end\n",
    "                   \n",
    "P = Diagonal(intermediate[:,]) * A + addin\n",
    "P = sparse(P)\n",
    "\n",
    "ones = [1 for i=1:500]\n",
    "sub = transpose(P)-eye(n)\n",
    "sub = vcat(ones',sub)\n",
    "\n",
    "b = [0 for i=1:501]\n",
    "b[1] = 1\n",
    "\n",
    "sub\\ b "
   ]
  },
  {
   "cell_type": "markdown",
   "metadata": {},
   "source": [
    "2.\n",
    "* Jacobi iteration: \n",
    "$$\n",
    "x_i^{(t+1)} = \\frac{b_i - \\sum_{j=1}^{i-1} a_{ij} x_j^{(t)} - \\sum_{j=i+1}^n a_{ij} x_j^{(t)}}{a_{ii}}.\n",
    "$$\n",
    "\n",
    "* With splitting: $\\mathbf{A} = \\mathbf{L} + \\mathbf{D} + \\mathbf{U}$, Jacobi iteration can be written as\n",
    "$$\n",
    "    \\mathbf{D} \\mathbf{x}^{(t+1)} = - (\\mathbf{L} + \\mathbf{U}) \\mathbf{x}^{(t)} + \\mathbf{b},\n",
    "$$\n",
    "i.e., \n",
    "$$\n",
    "\t\\mathbf{x}^{(t+1)} = - \\mathbf{D}^{-1} (\\mathbf{L} + \\mathbf{U}) \\mathbf{x}^{(t)} + \\mathbf{D}^{-1} \\mathbf{b} = - \\mathbf{D}^{-1} \\mathbf{A} \\mathbf{x}^{(t)} + \\mathbf{x}^{(t)} + \\mathbf{D}^{-1} \\mathbf{b}.\n",
    "$$\n",
    "\n"
   ]
  },
  {
   "cell_type": "code",
   "execution_count": 20,
   "metadata": {},
   "outputs": [
    {
     "data": {
      "text/plain": [
       "500-element Array{Float64,1}:\n",
       " 0.103354  \n",
       " 0.0038383 \n",
       " 0.00611034\n",
       " 0.00606293\n",
       " 0.0038383 \n",
       " 0.0038383 \n",
       " 0.0038383 \n",
       " 0.0038383 \n",
       " 0.0038383 \n",
       " 0.0038383 \n",
       " 0.0038383 \n",
       " 0.00413852\n",
       " 0.00407511\n",
       " ⋮         \n",
       " 0.00107226\n",
       " 0.00104648\n",
       " 0.00101735\n",
       " 0.0023545 \n",
       " 0.00152676\n",
       " 0.00107226\n",
       " 0.00107226\n",
       " 0.00510904\n",
       " 0.00107226\n",
       " 0.00104661\n",
       " 0.00107226\n",
       " 0.00084458"
      ]
     },
     "execution_count": 20,
     "metadata": {},
     "output_type": "execute_result"
    }
   ],
   "source": [
    "#2. interative linear solver\n",
    "using IterativeSolvers\n",
    "\n",
    "sub = transpose(P)-eye(n)\n",
    "b = [0 for i=1:500]\n",
    "b[1] = 1\n",
    "\n",
    "xjacobi = jacobi(sub, b)\n",
    "xjacobi/sum(xjacobi)\n",
    "\n",
    "###not sure why the answer got for \n",
    "###this question is not the same as the other\n",
    "###three questions"
   ]
  },
  {
   "cell_type": "code",
   "execution_count": 15,
   "metadata": {},
   "outputs": [
    {
     "data": {
      "text/plain": [
       "500-element Array{Complex{Float64},1}:\n",
       "  0.0115263+0.0im\n",
       " 0.00118521+0.0im\n",
       " 0.00368196+0.0im\n",
       " 0.00361842+0.0im\n",
       " 0.00118521+0.0im\n",
       " 0.00118521+0.0im\n",
       " 0.00118521+0.0im\n",
       " 0.00118521+0.0im\n",
       " 0.00118521+0.0im\n",
       " 0.00118521+0.0im\n",
       " 0.00118521+0.0im\n",
       " 0.00137118+0.0im\n",
       " 0.00133263+0.0im\n",
       "           ⋮     \n",
       " 0.00136037+0.0im\n",
       " 0.00136037+0.0im\n",
       " 0.00129072+0.0im\n",
       " 0.00337188+0.0im\n",
       " 0.00215239+0.0im\n",
       " 0.00136037+0.0im\n",
       " 0.00136037+0.0im\n",
       " 0.00750605+0.0im\n",
       " 0.00136037+0.0im\n",
       " 0.00136037+0.0im\n",
       " 0.00136037+0.0im\n",
       " 0.00107129+0.0im"
      ]
     },
     "execution_count": 15,
     "metadata": {},
     "output_type": "execute_result"
    }
   ],
   "source": [
    "#3. Eigen decomposition method\n",
    "\n",
    "P = Diagonal(intermediate[:,]) * A + addin\n",
    "tp = transpose(P)\n",
    "eigen_vector = eigfact(tp)[:vectors][:,1]\n",
    "eigen_vector/sum(eigen_vector)"
   ]
  },
  {
   "cell_type": "code",
   "execution_count": null,
   "metadata": {},
   "outputs": [],
   "source": [
    "4. A simple iterative eigen-solver such as the power method."
   ]
  },
  {
   "cell_type": "code",
   "execution_count": 16,
   "metadata": {},
   "outputs": [
    {
     "data": {
      "text/plain": [
       "500-element Array{Complex{Float64},1}:\n",
       "  0.0115264+6.07769e-9im \n",
       " 0.00118522+5.14613e-10im\n",
       " 0.00368198+1.7668e-9im  \n",
       " 0.00361844+1.72739e-9im \n",
       " 0.00118522+5.14613e-10im\n",
       " 0.00118522+5.14613e-10im\n",
       " 0.00118522+5.14613e-10im\n",
       " 0.00118522+5.14613e-10im\n",
       " 0.00118522+5.14613e-10im\n",
       " 0.00118522+5.14613e-10im\n",
       " 0.00118522+5.14613e-10im\n",
       " 0.00137119+6.06196e-10im\n",
       " 0.00133264+5.79833e-10im\n",
       "           ⋮             \n",
       " 0.00136038+5.91986e-10im\n",
       " 0.00136038+5.91986e-10im\n",
       " 0.00129072+5.54565e-10im\n",
       "  0.0033719+1.73886e-9im \n",
       "  0.0021524+1.10157e-9im \n",
       " 0.00136038+5.91986e-10im\n",
       " 0.00136038+5.91986e-10im\n",
       "  0.0075061+3.95281e-9im \n",
       " 0.00136038+5.91986e-10im\n",
       " 0.00136038+5.91986e-10im\n",
       " 0.00136038+5.91986e-10im\n",
       "  0.0010713+4.42643e-10im"
      ]
     },
     "execution_count": 16,
     "metadata": {},
     "output_type": "execute_result"
    }
   ],
   "source": [
    "#4.\n",
    "using IterativeSolvers\n",
    "x = [1/500 for i in 1:500]\n",
    "tp = transpose(P)\n",
    "\n",
    "a,b = powm(tp,tol = 1e-5, maxiter = 500)\n",
    "b/sum(b)   "
   ]
  },
  {
   "cell_type": "markdown",
   "metadata": {},
   "source": [
    "### (5)\n",
    "\n",
    "List the top 20 ranked URLs you found."
   ]
  },
  {
   "cell_type": "code",
   "execution_count": 17,
   "metadata": {},
   "outputs": [
    {
     "data": {
      "text/plain": [
       "20×3 Array{Any,2}:\n",
       " \"http://www.ucla.edu/audience/future.html\"            \"\"  \"\"\n",
       " \"http://www.ucla.edu/audience/students.html\"          \"\"  \"\"\n",
       " \"http://www.ucla.edu/audience/parents.html\"           \"\"  \"\"\n",
       " \"http://www.ucla.edu/audience/faculty.html\"           \"\"  \"\"\n",
       " \"http://www.ucla.edu/audience/staff.html\"             \"\"  \"\"\n",
       " \"http://www.ucla.edu/audience/kids-families.html\"     \"\"  \"\"\n",
       " \"http://www.ucla.edu/audience/alumni.html\"            \"\"  \"\"\n",
       " \"http://www.ucla.edu/audience/visitors.html\"          \"\"  \"\"\n",
       " \"http://www.ucla.edu/campusvalues\"                    \"\"  \"\"\n",
       " \"http://www.ucla.edu/healthsci.html\"                  \"\"  \"\"\n",
       " \"http://www.ucla.edu/terms.html\"                      \"\"  \"\"\n",
       " \"http://www.ucla.edu/contact.html\"                    \"\"  \"\"\n",
       " \"http://www.ucla.edu/connect.html\"                    \"\"  \"\"\n",
       " \"http://www.registrar.ucla.edu/facultystaff/ris.htm\"  \"\"  \"\"\n",
       " \"http://www.registrar.ucla.edu/cims\"                  \"\"  \"\"\n",
       " \"http://law.ucla.edu/academics/academic-calendar\"     \"\"  \"\"\n",
       " \"http://www.summer.ucla.edu/calendar\"                 \"\"  \"\"\n",
       " \"http://www.fowler.ucla.edu\"                          \"\"  \"\"\n",
       " \"http://www.hammer.ucla.edu\"                          \"\"  \"\"\n",
       " \"http://schema.org/character\"                         \"\"  \"\""
      ]
     },
     "execution_count": 17,
     "metadata": {},
     "output_type": "execute_result"
    }
   ],
   "source": [
    "ones = [1 for i=1:500]\n",
    "sub = transpose(P)-eye(n)\n",
    "sub = vcat(ones',sub)\n",
    "\n",
    "b = [0 for i=1:501]\n",
    "b[1] = 1\n",
    "\n",
    "score = sub\\ b \n",
    "ind = sortperm(score)\n",
    "U[ind.<21,:]"
   ]
  },
  {
   "cell_type": "markdown",
   "metadata": {},
   "source": [
    "### (6)\n",
    "\n",
    "As of Monday May 11 2018, there are at least 1.83 billion indexed webpages on internet according to <http://www.worldwidewebsize.com/>. Explain whether each of these methods works for the PageRank problem at this scale."
   ]
  },
  {
   "cell_type": "markdown",
   "metadata": {},
   "source": [
    "a. The dense linear system solver such as LU decomposition will become problematic when the data is huge. The decomposition takes much memory to store the big matrix.\n",
    "\n",
    "b. The simple iterative linear system solver such as Jacobi or Gauss-Seidel works better, but probably be slow and memory taking to store the matrix.\n",
    "\n",
    "c. The dense eigen-solver will waste time and memory on calculating all eigen vectors while we just care about the first one.\n",
    "\n",
    "d. The simple iterative eigen-solver such as the power method seems like a promising way to solve the problem. But many optimizations still required."
   ]
  },
  {
   "cell_type": "code",
   "execution_count": null,
   "metadata": {},
   "outputs": [],
   "source": []
  }
 ],
 "metadata": {
  "kernelspec": {
   "display_name": "Julia 0.6.2",
   "language": "julia",
   "name": "julia-0.6"
  },
  "language_info": {
   "file_extension": ".jl",
   "mimetype": "application/julia",
   "name": "julia",
   "version": "0.6.2"
  },
  "toc": {
   "colors": {
    "hover_highlight": "#DAA520",
    "running_highlight": "#FF0000",
    "selected_highlight": "#FFD700"
   },
   "moveMenuLeft": true,
   "nav_menu": {
    "height": "87px",
    "width": "252px"
   },
   "navigate_menu": true,
   "number_sections": false,
   "sideBar": true,
   "threshold": 4,
   "toc_cell": false,
   "toc_section_display": "block",
   "toc_window_display": true,
   "widenNotebook": false
  }
 },
 "nbformat": 4,
 "nbformat_minor": 2
}
